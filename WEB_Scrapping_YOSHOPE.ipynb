{
 "cells": [
  {
   "cell_type": "code",
   "execution_count": 1,
   "id": "28928e58",
   "metadata": {},
   "outputs": [],
   "source": [
    "from bs4 import BeautifulSoup as soup\n",
    "import requests\n",
    "import pandas as pd"
   ]
  },
  {
   "cell_type": "code",
   "execution_count": 2,
   "id": "2f8e08b3",
   "metadata": {},
   "outputs": [],
   "source": [
    "Product_name=[]\n",
    "Old_price=[]\n",
    "New_price=[]\n",
    "def product(url):\n",
    "    agent = {\"User-Agent\":'Mozilla/5.0 (Windows NT 6.3; WOW64) AppleWebKit/537.36 (KHTML, like Gecko) Chrome/59.0.3071.115 Safari/537.36'}\n",
    "    link = requests.get(url, headers=agent)\n",
    "    page_soup = soup(link.text, 'html.parser')\n",
    "    containers = page_soup.findAll(\"div\", {'class':\"product\"})\n",
    "    #price = container.findAll(\"div\",{'class':\"product-price\"})\n",
    "    \n",
    "    \n",
    "    for container in containers:\n",
    "        product_name = container.div.img['alt']\n",
    "        Product_name.append(product_name)\n",
    "        price_container = container.findAll(\"div\",{'class':\"product-price\"})\n",
    "        price= price_container[0].text.strip()\n",
    "        trim_price = ''.join(price.split(','))\n",
    "        trim_rupees = trim_price.split('₹')\n",
    "        old_price = 'Rs.' + trim_rupees[1]\n",
    "        Old_price.append(old_price)\n",
    "        new_price = 'Rs.' + trim_rupees[2]\n",
    "        New_price.append(new_price)\n",
    "        #print(product_name.replace(',' , '|') + ',' + old_price + ',' + new_price + '\\n')\n",
    "        #f.write(product_name.replace(',' , '|') + ','+ old_price + ',' + new_price + '\\n')\n",
    "        #product_list = pd.DataFrame({'PRODUCT_NAME':Product_name,'OLD_PRICE':Old_price,'NEW_PRICE':New_price})\n",
    "        df= pd.DataFrame()\n",
    "        df['Product_name'] =Product_name\n",
    "        df['Old_price'] = Old_price\n",
    "        df['New_price']=New_price\n",
    "   # f.close()\n",
    "    return df.to_csv('productshopes.csv',index=True)\n"
   ]
  },
  {
   "cell_type": "code",
   "execution_count": 2,
   "id": "9efef4fe",
   "metadata": {},
   "outputs": [],
   "source": [
    "def productDescriptios(url):\n",
    "    agent = {\"User-Agent\":'Mozilla/5.0 (Windows NT 6.3; WOW64) AppleWebKit/537.36 (KHTML, like Gecko) Chrome/59.0.3071.115 Safari/537.36'}\n",
    "    link = requests.get(url, headers=agent)\n",
    "    page_soup = soup(link.text, 'html.parser')\n",
    "    productDiscription = page_soup.find('div',{'class':'single-product-zoom'})\n",
    "    modeldetails = page_soup.find('div',class_='single-product-description').get_text()\n",
    "    bad_chars = ['\\n', '\\xa0', '\\r','Product Description']\n",
    "    for i in bad_chars :\n",
    "        modeldetails = modeldetails.replace(i, '')\n",
    "    df = pd.DataFrame()\n",
    "    df['Title'] = [productDiscription.img['alt']]\n",
    "    df['Product Description'] = [modeldetails]\n",
    "    return df.to_csv('product_description.csv',index=False)"
   ]
  },
  {
   "cell_type": "code",
   "execution_count": 4,
   "id": "3ca04232",
   "metadata": {},
   "outputs": [],
   "source": [
    "def all_Products(url):\n",
    "    agent = {\"User-Agent\":'Mozilla/5.0 (Windows NT 6.3; WOW64) AppleWebKit/537.36 (KHTML, like Gecko) Chrome/59.0.3071.115 Safari/537.36'}\n",
    "    link = requests.get(url, headers=agent)\n",
    "    page_soup = soup(link.text, 'html.parser')\n",
    "    products_all = page_soup.find_all('li',{'class':'dropdown'})\n",
    "    #print(products_all)\n",
    "    #len(products_all)\n",
    "    all_names = []\n",
    "    for pro in products_all:\n",
    "        all_names.append(pro.text)\n",
    "    productNames = []\n",
    "    for i in all_names:\n",
    "        k = i.replace('\\n','')\n",
    "        productNames.append(k)\n",
    "    df = pd.DataFrame()\n",
    "    df['All_Product'] = productNames\n",
    "    return df.to_csv('All_Products.csv',index=False)\n"
   ]
  },
  {
   "cell_type": "code",
   "execution_count": 3,
   "id": "46984f49",
   "metadata": {},
   "outputs": [
    {
     "name": "stdout",
     "output_type": "stream",
     "text": [
      "\n",
      "[1] Enter 1 to see Products Name & prices.\n",
      "[2] Enter 2 for Product Description.\n",
      "[3] Enter 3 for All Product.\n",
      "[4] Enter 4 to Exit.\n",
      "\n",
      "Please Enter 2\n",
      "\n",
      "2nd Option Selected\n",
      "\n",
      "Enter the URLhttps://yoshops.com/products/samsung-galaxy-m01-core-2gb-ram-with-32gb-storage-black-blue-red\n",
      "\n",
      "[1] Enter 1 to see Products Name & prices.\n",
      "[2] Enter 2 for Product Description.\n",
      "[3] Enter 3 for All Product.\n",
      "[4] Enter 4 to Exit.\n",
      "\n",
      "Please Enter 4\n",
      "Out of loop\n"
     ]
    }
   ],
   "source": [
    "option = ''\n",
    "while option != '4':\n",
    "    print(\"\\n[1] Enter 1 to see Products Name & prices.\")\n",
    "    print(\"[2] Enter 2 for Product Description.\")\n",
    "    print(\"[3] Enter 3 for All Product.\")\n",
    "    print(\"[4] Enter 4 to Exit.\")\n",
    "    \n",
    "    option = input(\"\\nPlease Enter \")\n",
    "    \n",
    "    if option == '1':\n",
    "        print(\"1st Option Selected\")\n",
    "        url = input('Enter the URL')\n",
    "        product(url)\n",
    "    elif option == '2':\n",
    "        print(\"\\n2nd Option Selected\\n\")\n",
    "        url = input('Enter the URL')\n",
    "        productDescriptios(url)\n",
    "    elif option == '3':\n",
    "        print(\"\\n3rd Otion Selectwd \\n\")\n",
    "        url = input('Enter the URL')\n",
    "        all_Products(url)\n",
    "    elif option == 'q':\n",
    "        print(\"ahgf\")\n",
    "         \n",
    "\n",
    "print(\"Out of loop\")"
   ]
  },
  {
   "cell_type": "code",
   "execution_count": null,
   "id": "258b7cc2",
   "metadata": {},
   "outputs": [],
   "source": []
  }
 ],
 "metadata": {
  "kernelspec": {
   "display_name": "Python 3",
   "language": "python",
   "name": "python3"
  },
  "language_info": {
   "codemirror_mode": {
    "name": "ipython",
    "version": 3
   },
   "file_extension": ".py",
   "mimetype": "text/x-python",
   "name": "python",
   "nbconvert_exporter": "python",
   "pygments_lexer": "ipython3",
   "version": "3.8.8"
  }
 },
 "nbformat": 4,
 "nbformat_minor": 5
}
